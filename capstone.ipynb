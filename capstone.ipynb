{
 "cells": [
  {
   "cell_type": "markdown",
   "metadata": {},
   "source": [
    "# Lendo dados de geociência"
   ]
  },
  {
   "cell_type": "markdown",
   "metadata": {},
   "source": [
    "## License\n",
    "\n",
    "All content can be freely used and adapted under the terms of the \n",
    "[Creative Commons Attribution 4.0 International License](http://creativecommons.org/licenses/by/4.0/).\n",
    "\n",
    "![Creative Commons License](https://i.creativecommons.org/l/by/4.0/88x31.png)"
   ]
  },
  {
   "cell_type": "markdown",
   "metadata": {},
   "source": [
    "## Imports\n",
    "\n",
    "Coloque **todos** os `import` na célula abaixo. Não se esqueça do `%matplotlib inline` para que os gráficos apareçam no notebook."
   ]
  },
  {
   "cell_type": "code",
   "execution_count": 79,
   "metadata": {
    "collapsed": false
   },
   "outputs": [],
   "source": [
    "import numpy as np"
   ]
  },
  {
   "cell_type": "code",
   "execution_count": 80,
   "metadata": {
    "collapsed": true
   },
   "outputs": [],
   "source": [
    "import matplotlib.pyplot as plt"
   ]
  },
  {
   "cell_type": "code",
   "execution_count": 81,
   "metadata": {
    "collapsed": true
   },
   "outputs": [],
   "source": [
    "%matplotlib inline"
   ]
  },
  {
   "cell_type": "markdown",
   "metadata": {},
   "source": [
    "## IMPORTANTE\n",
    "\n",
    "Agora que vocês sabem técnicas de programação defensiva, eu espero que todo o código que vocês fizerem abaixo utilizem essas técnicas. Crie docstrings para suas funções, cheque as entradas (quando for possível) e cheque as saídas. **Não esqueçam dos comentários**."
   ]
  },
  {
   "cell_type": "markdown",
   "metadata": {},
   "source": [
    "## Temperatura no Rio de Janeiro\n",
    "\n",
    "O arquivo `data/23.31S-42.82W-TAVG-Trend.txt` contém dados de temperatura média mensal para a cidade do Rio de Janeiro. O arquivo também contém médias móveis anual, 5, 10 e 20 anos. Esses dados foram baixados do site Berkeley Earth (http://berkeleyearth.lbl.gov/locations/23.31S-42.82W).\n",
    "\n",
    "### Tarefa\n",
    "\n",
    "Faça duas funções, uma que lê os dados de temperatura mensal, outra que lê os dados da média móvel anual.\n",
    "As duas funções devem:\n",
    "\n",
    "* Receber como entrada **somente** o nome do arquivo de dados.\n",
    "* Retornar duas listas: uma com as datas referentes aos dados e outra com os dados de temperatura.\n",
    "* As datas retornadas devem ser em anos decimais. Ex: Janeiro de 1984 seria 1984.0833333333333 (1984 + 1/12).\n",
    "* Datas sem valores de temperatura (NaN) devem ser ignoradas (não incluidas nas listas).\n",
    "\n",
    "Utilize suas funções para carregar os dados e fazer um gráfico da temperatura média mensal e média movel anual pelo tempo."
   ]
  },
  {
   "cell_type": "code",
   "execution_count": 83,
   "metadata": {
    "collapsed": false
   },
   "outputs": [],
   "source": [
    "# Criam-se listas vazias que irão guardar os valores das datas e das temperaturas mensais\n",
    "datas = []\n",
    "temperaturas = []\n",
    "# Abre o arquivo que irá ser usado na prática\n",
    "arquivo = open('data/23.31S-42.82W-TAVG-Trend.txt')\n",
    "# Percorre todas as linhas do arquivo\n",
    "for linhas in arquivo:\n",
    "# Para fazer a leitura das linhas que contenham somente os dados solicitados, pulam-se as linhas que comecem com '%' e as linhas em branco.(Linhas vazias são representadas pelos caracteres '\\n') \n",
    "    if linhas[0] != '%' and linhas[0]!= '\\n':\n",
    "# Variável 'separa' guarda os valores de cada linha divididos em listas\n",
    "        separa = linhas.split( )\n",
    "# De acordo com a restrição 4 \"Datas sem valores de temperatura (NaN) devem ser ignoradas (não incluidas nas listas).\" Semelhante ao 'if' anterior\n",
    "        if separa[4] != 'NaN':\n",
    "# 'ano', 'mes' e 'temp_final' transformam em números os dados que estavam em formato de texto\n",
    "            ano = float(separa[0])\n",
    "            mes = float(separa[1])\n",
    "            temp_final = float(separa[2])\n",
    "# 'data-final' transforma as datas no formato pedido\n",
    "            data_final = ano + mes/12     \n",
    "# Aloca 'temp_final' e 'data_final' nas listas criadas acima\n",
    "            datas.append(data_final)            \n",
    "            temperaturas.append(temp_final)"
   ]
  },
  {
   "cell_type": "code",
   "execution_count": 84,
   "metadata": {
    "collapsed": false
   },
   "outputs": [],
   "source": [
    "# Cria lista vazia que irá guardar os valores das temperaturas anuais\n",
    "temperaturas_ano = []\n",
    "# Abre o arquivo que irá ser usado na prática\n",
    "arquivo = open('data/23.31S-42.82W-TAVG-Trend.txt')\n",
    "# Percorre todas as linhas do arquivo\n",
    "for linhas in arquivo:\n",
    "# Para fazer a leitura das linhas que contenham somente os dados solicitados, pulam-se as linhas que comecem com '%' e as linhas em branco.(Linhas vazias são representadas pelos caracteres '\\n') \n",
    "    if linhas[0] != '%' and linhas[0]!= '\\n':\n",
    "# Variável 'separa' guarda os valores de cada linha divididos em listas\n",
    "        separa = linhas.split( )\n",
    "# De acordo com a restrição 4 \"Datas sem valores de temperatura (NaN) devem ser ignoradas (não incluidas nas listas).\" Semelhante ao 'if' anterior\n",
    "        if separa[4] != 'NaN':\n",
    "# 'temp_final_ano' transforma em números os dados que estavam em formato de texto\n",
    "            temp_final_ano = float(separa[4])\n",
    "# Aloca 'temp_final_ano' na lista criada acima\n",
    "            temperaturas_ano.append(temp_final_ano)"
   ]
  },
  {
   "cell_type": "code",
   "execution_count": 85,
   "metadata": {
    "collapsed": false
   },
   "outputs": [],
   "source": [
    "# Cria lista vazia que irá guardar os valores das médias\n",
    "mes_temp = []\n",
    "ano_temp = []\n",
    "# Pega os elementos nas temperaturas mensais e calcula as médias de acordo com as informações fornecidas no corpo do arquivo\n",
    "for elemento_temp in range(len(temperaturas)): \n",
    "    medias = temperaturas[elemento_temp] + 24.01\n",
    "    mes_temp.append(medias)\n",
    "# Pega os elementos nas temperaturas anuais e calcula as médias de acordo com as informações fornecidas no corpo do arquivo    \n",
    "for elemento_temp_ano in range(len(temperaturas_ano)): \n",
    "    medias_ano = temperaturas_ano[elemento_temp_ano] + 24.01\n",
    "    ano_temp.append(medias_ano)"
   ]
  },
  {
   "cell_type": "code",
   "execution_count": 86,
   "metadata": {
    "collapsed": false
   },
   "outputs": [
    {
     "data": {
      "text/plain": [
       "<matplotlib.legend.Legend at 0xae949e8>"
      ]
     },
     "execution_count": 86,
     "metadata": {},
     "output_type": "execute_result"
    },
    {
     "data": {
      "image/png": "[encoded data removed]",
      "text/plain": [
       "<matplotlib.figure.Figure at 0xad61128>"
      ]
     },
     "metadata": {},
     "output_type": "display_data"
    }
   ],
   "source": [
    "plt.figure(figsize = [8, 4])\n",
    "plt.grid()\n",
    "plt.plot(datas, mes_temp, '.k', label='Média mensal') \n",
    "plt.plot(datas, ano_temp, '-r', label='Média móvel anual', linewidth = 2)\n",
    "plt.xlabel(\"Ano\")\n",
    "plt.ylabel(\"Temperatura em Celsius (°C)\")\n",
    "plt.xlim(1831,2014)\n",
    "plt.legend(loc='upper left', shadow=True, fontsize='large')"
   ]
  },
  {
   "cell_type": "code",
   "execution_count": null,
   "metadata": {
    "collapsed": true
   },
   "outputs": [],
   "source": []
  },
  {
   "cell_type": "code",
   "execution_count": null,
   "metadata": {
    "collapsed": true
   },
   "outputs": [],
   "source": []
  },
  {
   "cell_type": "markdown",
   "metadata": {},
   "source": [
    "### Resultado esperado\n",
    "\n",
    "O gráfico final deve ser parecido com o abaixo:\n",
    "\n",
    "![images/media-mensal-temp-rio.png](images/media-mensal-temp-rio.png)"
   ]
  },
  {
   "cell_type": "markdown",
   "metadata": {},
   "source": [
    "### Tarefa\n",
    "\n",
    "Faça uma função que calcule a temperatura média anual a partir das temperaturas mensais. A sua função deve:\n",
    "\n",
    "* Receber como entrada a lista das datas e a lista das temperaturas mensais.\n",
    "* Retornar duas listas: uma com os anos e outra com as temperaturas médias correspondetes.\n",
    "* Anos que não contem dados de todos os 12 meses devem ser ignorados (não incluídos nas listas retornadas).\n",
    "\n",
    "Utilize sua função para calcular a média anual. Faça um gráfico da temperatura média anual por ano junto com a média móvel anual.\n",
    "\n",
    "**Dica**: A função `math.floor` retorna o número inteiro que precede um número real. Ex: `math.floor(1984.23) == 1984`"
   ]
  },
  {
   "cell_type": "code",
   "execution_count": null,
   "metadata": {
    "collapsed": true
   },
   "outputs": [],
   "source": []
  },
  {
   "cell_type": "code",
   "execution_count": null,
   "metadata": {
    "collapsed": true
   },
   "outputs": [],
   "source": []
  },
  {
   "cell_type": "code",
   "execution_count": null,
   "metadata": {
    "collapsed": true
   },
   "outputs": [],
   "source": []
  },
  {
   "cell_type": "code",
   "execution_count": null,
   "metadata": {
    "collapsed": true
   },
   "outputs": [],
   "source": []
  },
  {
   "cell_type": "code",
   "execution_count": null,
   "metadata": {
    "collapsed": true
   },
   "outputs": [],
   "source": []
  },
  {
   "cell_type": "markdown",
   "metadata": {},
   "source": [
    "### Resultado esperado\n",
    "\n",
    "O gráfico final deve ser parecido com o abaixo:\n",
    "\n",
    "![images/media-anual-temp-rio.png](images/media-anual-temp-rio.png)"
   ]
  },
  {
   "cell_type": "markdown",
   "metadata": {},
   "source": [
    "## Tarefa Bônus\n",
    "\n",
    "Salve os dados da média anual em um arquivo CSV (comma separated values) chamado `temp-media-anual.csv`. Os valores devem ser separados por `,`. A primeira coluna deve conter os anos e a segunda as temperaturas. Esse arquivo deve estar presente em seu repositório (dê `git add` nele)."
   ]
  },
  {
   "cell_type": "code",
   "execution_count": null,
   "metadata": {
    "collapsed": true
   },
   "outputs": [],
   "source": []
  },
  {
   "cell_type": "code",
   "execution_count": null,
   "metadata": {
    "collapsed": true
   },
   "outputs": [],
   "source": []
  },
  {
   "cell_type": "code",
   "execution_count": null,
   "metadata": {
    "collapsed": true
   },
   "outputs": [],
   "source": []
  },
  {
   "cell_type": "code",
   "execution_count": null,
   "metadata": {
    "collapsed": true
   },
   "outputs": [],
   "source": []
  },
  {
   "cell_type": "code",
   "execution_count": null,
   "metadata": {
    "collapsed": true
   },
   "outputs": [],
   "source": []
  }
 ],
 "metadata": {
  "kernelspec": {
   "display_name": "Python 3",
   "language": "python",
   "name": "python3"
  },
  "language_info": {
   "codemirror_mode": {
    "name": "ipython",
    "version": 3
   },
   "file_extension": ".py",
   "mimetype": "text/x-python",
   "name": "python",
   "nbconvert_exporter": "python",
   "pygments_lexer": "ipython3",
   "version": "3.4.3"
  }
 },
 "nbformat": 4,
 "nbformat_minor": 0
}
